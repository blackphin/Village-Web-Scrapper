{
 "cells": [
  {
   "cell_type": "markdown",
   "metadata": {},
   "source": [
    "Imports"
   ]
  },
  {
   "cell_type": "code",
   "execution_count": 1,
   "metadata": {},
   "outputs": [],
   "source": [
    "import json\n",
    "\n",
    "from time import sleep\n",
    "\n",
    "from selenium import webdriver\n",
    "from selenium.webdriver.chrome.service import Service\n",
    "from selenium.webdriver.chrome.options import Options\n",
    "from selenium.webdriver.common.by import By\n",
    "from selenium.webdriver.common.keys import Keys\n",
    "\n",
    "from webdriver_manager.chrome import ChromeDriverManager\n"
   ]
  },
  {
   "cell_type": "markdown",
   "metadata": {},
   "source": [
    "Webdriver Initialization"
   ]
  },
  {
   "cell_type": "code",
   "execution_count": 6,
   "metadata": {},
   "outputs": [],
   "source": [
    "url='https://villageinfo.in'\n",
    "\n",
    "options = Options()\n",
    "options.add_argument(\"start-maximized\")\n",
    "driver = webdriver.Chrome(\n",
    "    service=Service(ChromeDriverManager().install()), options=options\n",
    ")\n",
    "driver.get(url)"
   ]
  },
  {
   "cell_type": "markdown",
   "metadata": {},
   "source": [
    "Scroll to the Bottom of the Page"
   ]
  },
  {
   "cell_type": "code",
   "execution_count": 10,
   "metadata": {},
   "outputs": [],
   "source": [
    "def scroll_bottom(scroll_pause_time=1):\n",
    "    last_height = driver.execute_script(\"return document.body.scrollHeight\")\n",
    "\n",
    "    while True:\n",
    "        # Scroll down to bottom\n",
    "        # driver.execute_script(\"window.scrollTo(0, document.body.scrollHeight);\")\n",
    "        driver.execute_script(\n",
    "            \"window.scrollTo({top: document.body.scrollHeight-7000,left: 0,behavior: 'smooth'});\"\n",
    "        )\n",
    "\n",
    "        # Wait to load page\n",
    "        sleep(scroll_pause_time)\n",
    "\n",
    "        # Calculate new scroll height and compare with last scroll height\n",
    "        new_height = driver.execute_script(\"return document.body.scrollHeight\")\n",
    "        if new_height == last_height:\n",
    "            break\n",
    "        last_height = new_height"
   ]
  },
  {
   "cell_type": "markdown",
   "metadata": {},
   "source": [
    "Collect Village Link List"
   ]
  },
  {
   "cell_type": "code",
   "execution_count": 8,
   "metadata": {},
   "outputs": [
    {
     "ename": "KeyboardInterrupt",
     "evalue": "",
     "output_type": "error",
     "traceback": [
      "\u001b[1;31m---------------------------------------------------------------------------\u001b[0m",
      "\u001b[1;31mKeyboardInterrupt\u001b[0m                         Traceback (most recent call last)",
      "Cell \u001b[1;32mIn [8], line 37\u001b[0m\n\u001b[0;32m     34\u001b[0m     \u001b[38;5;66;03m# break\u001b[39;00m\n\u001b[0;32m     36\u001b[0m \u001b[38;5;28;01mfor\u001b[39;00m tehsil_link \u001b[38;5;129;01min\u001b[39;00m tehsil_links:\n\u001b[1;32m---> 37\u001b[0m     \u001b[43mdriver\u001b[49m\u001b[38;5;241;43m.\u001b[39;49m\u001b[43mget\u001b[49m\u001b[43m(\u001b[49m\u001b[43mtehsil_link\u001b[49m\u001b[43m)\u001b[49m\n\u001b[0;32m     38\u001b[0m     scroll_bottom()\n\u001b[0;32m     39\u001b[0m     village_elements \u001b[38;5;241m=\u001b[39m driver\u001b[38;5;241m.\u001b[39mfind_elements(\n\u001b[0;32m     40\u001b[0m         by\u001b[38;5;241m=\u001b[39mBy\u001b[38;5;241m.\u001b[39mCSS_SELECTOR, value\u001b[38;5;241m=\u001b[39m\u001b[38;5;124m\"\u001b[39m\u001b[38;5;124m.vict tbody tr td a\u001b[39m\u001b[38;5;124m\"\u001b[39m\n\u001b[0;32m     41\u001b[0m     )\n",
      "File \u001b[1;32md:\\OneDrive\\Repositories\\Village-Info-Scrapper\\.venv\\lib\\site-packages\\selenium\\webdriver\\remote\\webdriver.py:440\u001b[0m, in \u001b[0;36mWebDriver.get\u001b[1;34m(self, url)\u001b[0m\n\u001b[0;32m    436\u001b[0m \u001b[39mdef\u001b[39;00m \u001b[39mget\u001b[39m(\u001b[39mself\u001b[39m, url: \u001b[39mstr\u001b[39m) \u001b[39m-\u001b[39m\u001b[39m>\u001b[39m \u001b[39mNone\u001b[39;00m:\n\u001b[0;32m    437\u001b[0m     \u001b[39m\"\"\"\u001b[39;00m\n\u001b[0;32m    438\u001b[0m \u001b[39m    Loads a web page in the current browser session.\u001b[39;00m\n\u001b[0;32m    439\u001b[0m \u001b[39m    \"\"\"\u001b[39;00m\n\u001b[1;32m--> 440\u001b[0m     \u001b[39mself\u001b[39;49m\u001b[39m.\u001b[39;49mexecute(Command\u001b[39m.\u001b[39;49mGET, {\u001b[39m'\u001b[39;49m\u001b[39murl\u001b[39;49m\u001b[39m'\u001b[39;49m: url})\n",
      "File \u001b[1;32md:\\OneDrive\\Repositories\\Village-Info-Scrapper\\.venv\\lib\\site-packages\\selenium\\webdriver\\remote\\webdriver.py:426\u001b[0m, in \u001b[0;36mWebDriver.execute\u001b[1;34m(self, driver_command, params)\u001b[0m\n\u001b[0;32m    423\u001b[0m         params[\u001b[39m'\u001b[39m\u001b[39msessionId\u001b[39m\u001b[39m'\u001b[39m] \u001b[39m=\u001b[39m \u001b[39mself\u001b[39m\u001b[39m.\u001b[39msession_id\n\u001b[0;32m    425\u001b[0m params \u001b[39m=\u001b[39m \u001b[39mself\u001b[39m\u001b[39m.\u001b[39m_wrap_value(params)\n\u001b[1;32m--> 426\u001b[0m response \u001b[39m=\u001b[39m \u001b[39mself\u001b[39;49m\u001b[39m.\u001b[39;49mcommand_executor\u001b[39m.\u001b[39;49mexecute(driver_command, params)\n\u001b[0;32m    427\u001b[0m \u001b[39mif\u001b[39;00m response:\n\u001b[0;32m    428\u001b[0m     \u001b[39mself\u001b[39m\u001b[39m.\u001b[39merror_handler\u001b[39m.\u001b[39mcheck_response(response)\n",
      "File \u001b[1;32md:\\OneDrive\\Repositories\\Village-Info-Scrapper\\.venv\\lib\\site-packages\\selenium\\webdriver\\remote\\remote_connection.py:344\u001b[0m, in \u001b[0;36mRemoteConnection.execute\u001b[1;34m(self, command, params)\u001b[0m\n\u001b[0;32m    342\u001b[0m data \u001b[39m=\u001b[39m utils\u001b[39m.\u001b[39mdump_json(params)\n\u001b[0;32m    343\u001b[0m url \u001b[39m=\u001b[39m \u001b[39mf\u001b[39m\u001b[39m\"\u001b[39m\u001b[39m{\u001b[39;00m\u001b[39mself\u001b[39m\u001b[39m.\u001b[39m_url\u001b[39m}\u001b[39;00m\u001b[39m{\u001b[39;00mpath\u001b[39m}\u001b[39;00m\u001b[39m\"\u001b[39m\n\u001b[1;32m--> 344\u001b[0m \u001b[39mreturn\u001b[39;00m \u001b[39mself\u001b[39;49m\u001b[39m.\u001b[39;49m_request(command_info[\u001b[39m0\u001b[39;49m], url, body\u001b[39m=\u001b[39;49mdata)\n",
      "File \u001b[1;32md:\\OneDrive\\Repositories\\Village-Info-Scrapper\\.venv\\lib\\site-packages\\selenium\\webdriver\\remote\\remote_connection.py:366\u001b[0m, in \u001b[0;36mRemoteConnection._request\u001b[1;34m(self, method, url, body)\u001b[0m\n\u001b[0;32m    363\u001b[0m     body \u001b[39m=\u001b[39m \u001b[39mNone\u001b[39;00m\n\u001b[0;32m    365\u001b[0m \u001b[39mif\u001b[39;00m \u001b[39mself\u001b[39m\u001b[39m.\u001b[39mkeep_alive:\n\u001b[1;32m--> 366\u001b[0m     response \u001b[39m=\u001b[39m \u001b[39mself\u001b[39;49m\u001b[39m.\u001b[39;49m_conn\u001b[39m.\u001b[39;49mrequest(method, url, body\u001b[39m=\u001b[39;49mbody, headers\u001b[39m=\u001b[39;49mheaders)\n\u001b[0;32m    367\u001b[0m     statuscode \u001b[39m=\u001b[39m response\u001b[39m.\u001b[39mstatus\n\u001b[0;32m    368\u001b[0m \u001b[39melse\u001b[39;00m:\n",
      "File \u001b[1;32md:\\OneDrive\\Repositories\\Village-Info-Scrapper\\.venv\\lib\\site-packages\\urllib3\\request.py:78\u001b[0m, in \u001b[0;36mRequestMethods.request\u001b[1;34m(self, method, url, fields, headers, **urlopen_kw)\u001b[0m\n\u001b[0;32m     74\u001b[0m     \u001b[39mreturn\u001b[39;00m \u001b[39mself\u001b[39m\u001b[39m.\u001b[39mrequest_encode_url(\n\u001b[0;32m     75\u001b[0m         method, url, fields\u001b[39m=\u001b[39mfields, headers\u001b[39m=\u001b[39mheaders, \u001b[39m*\u001b[39m\u001b[39m*\u001b[39murlopen_kw\n\u001b[0;32m     76\u001b[0m     )\n\u001b[0;32m     77\u001b[0m \u001b[39melse\u001b[39;00m:\n\u001b[1;32m---> 78\u001b[0m     \u001b[39mreturn\u001b[39;00m \u001b[39mself\u001b[39m\u001b[39m.\u001b[39mrequest_encode_body(\n\u001b[0;32m     79\u001b[0m         method, url, fields\u001b[39m=\u001b[39mfields, headers\u001b[39m=\u001b[39mheaders, \u001b[39m*\u001b[39m\u001b[39m*\u001b[39murlopen_kw\n\u001b[0;32m     80\u001b[0m     )\n",
      "File \u001b[1;32md:\\OneDrive\\Repositories\\Village-Info-Scrapper\\.venv\\lib\\site-packages\\urllib3\\request.py:170\u001b[0m, in \u001b[0;36mRequestMethods.request_encode_body\u001b[1;34m(self, method, url, fields, headers, encode_multipart, multipart_boundary, **urlopen_kw)\u001b[0m\n\u001b[0;32m    167\u001b[0m extra_kw[\u001b[39m\"\u001b[39m\u001b[39mheaders\u001b[39m\u001b[39m\"\u001b[39m]\u001b[39m.\u001b[39mupdate(headers)\n\u001b[0;32m    168\u001b[0m extra_kw\u001b[39m.\u001b[39mupdate(urlopen_kw)\n\u001b[1;32m--> 170\u001b[0m \u001b[39mreturn\u001b[39;00m \u001b[39mself\u001b[39m\u001b[39m.\u001b[39murlopen(method, url, \u001b[39m*\u001b[39m\u001b[39m*\u001b[39mextra_kw)\n",
      "File \u001b[1;32md:\\OneDrive\\Repositories\\Village-Info-Scrapper\\.venv\\lib\\site-packages\\urllib3\\poolmanager.py:376\u001b[0m, in \u001b[0;36mPoolManager.urlopen\u001b[1;34m(self, method, url, redirect, **kw)\u001b[0m\n\u001b[0;32m    374\u001b[0m     response \u001b[39m=\u001b[39m conn\u001b[39m.\u001b[39murlopen(method, url, \u001b[39m*\u001b[39m\u001b[39m*\u001b[39mkw)\n\u001b[0;32m    375\u001b[0m \u001b[39melse\u001b[39;00m:\n\u001b[1;32m--> 376\u001b[0m     response \u001b[39m=\u001b[39m conn\u001b[39m.\u001b[39murlopen(method, u\u001b[39m.\u001b[39mrequest_uri, \u001b[39m*\u001b[39m\u001b[39m*\u001b[39mkw)\n\u001b[0;32m    378\u001b[0m redirect_location \u001b[39m=\u001b[39m redirect \u001b[39mand\u001b[39;00m response\u001b[39m.\u001b[39mget_redirect_location()\n\u001b[0;32m    379\u001b[0m \u001b[39mif\u001b[39;00m \u001b[39mnot\u001b[39;00m redirect_location:\n",
      "File \u001b[1;32md:\\OneDrive\\Repositories\\Village-Info-Scrapper\\.venv\\lib\\site-packages\\urllib3\\connectionpool.py:703\u001b[0m, in \u001b[0;36mHTTPConnectionPool.urlopen\u001b[1;34m(self, method, url, body, headers, retries, redirect, assert_same_host, timeout, pool_timeout, release_conn, chunked, body_pos, **response_kw)\u001b[0m\n\u001b[0;32m    700\u001b[0m     \u001b[39mself\u001b[39m\u001b[39m.\u001b[39m_prepare_proxy(conn)\n\u001b[0;32m    702\u001b[0m \u001b[39m# Make the request on the httplib connection object.\u001b[39;00m\n\u001b[1;32m--> 703\u001b[0m httplib_response \u001b[39m=\u001b[39m \u001b[39mself\u001b[39;49m\u001b[39m.\u001b[39;49m_make_request(\n\u001b[0;32m    704\u001b[0m     conn,\n\u001b[0;32m    705\u001b[0m     method,\n\u001b[0;32m    706\u001b[0m     url,\n\u001b[0;32m    707\u001b[0m     timeout\u001b[39m=\u001b[39;49mtimeout_obj,\n\u001b[0;32m    708\u001b[0m     body\u001b[39m=\u001b[39;49mbody,\n\u001b[0;32m    709\u001b[0m     headers\u001b[39m=\u001b[39;49mheaders,\n\u001b[0;32m    710\u001b[0m     chunked\u001b[39m=\u001b[39;49mchunked,\n\u001b[0;32m    711\u001b[0m )\n\u001b[0;32m    713\u001b[0m \u001b[39m# If we're going to release the connection in ``finally:``, then\u001b[39;00m\n\u001b[0;32m    714\u001b[0m \u001b[39m# the response doesn't need to know about the connection. Otherwise\u001b[39;00m\n\u001b[0;32m    715\u001b[0m \u001b[39m# it will also try to release it and we'll have a double-release\u001b[39;00m\n\u001b[0;32m    716\u001b[0m \u001b[39m# mess.\u001b[39;00m\n\u001b[0;32m    717\u001b[0m response_conn \u001b[39m=\u001b[39m conn \u001b[39mif\u001b[39;00m \u001b[39mnot\u001b[39;00m release_conn \u001b[39melse\u001b[39;00m \u001b[39mNone\u001b[39;00m\n",
      "File \u001b[1;32md:\\OneDrive\\Repositories\\Village-Info-Scrapper\\.venv\\lib\\site-packages\\urllib3\\connectionpool.py:449\u001b[0m, in \u001b[0;36mHTTPConnectionPool._make_request\u001b[1;34m(self, conn, method, url, timeout, chunked, **httplib_request_kw)\u001b[0m\n\u001b[0;32m    444\u001b[0m             httplib_response \u001b[39m=\u001b[39m conn\u001b[39m.\u001b[39mgetresponse()\n\u001b[0;32m    445\u001b[0m         \u001b[39mexcept\u001b[39;00m \u001b[39mBaseException\u001b[39;00m \u001b[39mas\u001b[39;00m e:\n\u001b[0;32m    446\u001b[0m             \u001b[39m# Remove the TypeError from the exception chain in\u001b[39;00m\n\u001b[0;32m    447\u001b[0m             \u001b[39m# Python 3 (including for exceptions like SystemExit).\u001b[39;00m\n\u001b[0;32m    448\u001b[0m             \u001b[39m# Otherwise it looks like a bug in the code.\u001b[39;00m\n\u001b[1;32m--> 449\u001b[0m             six\u001b[39m.\u001b[39;49mraise_from(e, \u001b[39mNone\u001b[39;49;00m)\n\u001b[0;32m    450\u001b[0m \u001b[39mexcept\u001b[39;00m (SocketTimeout, BaseSSLError, SocketError) \u001b[39mas\u001b[39;00m e:\n\u001b[0;32m    451\u001b[0m     \u001b[39mself\u001b[39m\u001b[39m.\u001b[39m_raise_timeout(err\u001b[39m=\u001b[39me, url\u001b[39m=\u001b[39murl, timeout_value\u001b[39m=\u001b[39mread_timeout)\n",
      "File \u001b[1;32m<string>:3\u001b[0m, in \u001b[0;36mraise_from\u001b[1;34m(value, from_value)\u001b[0m\n",
      "File \u001b[1;32md:\\OneDrive\\Repositories\\Village-Info-Scrapper\\.venv\\lib\\site-packages\\urllib3\\connectionpool.py:444\u001b[0m, in \u001b[0;36mHTTPConnectionPool._make_request\u001b[1;34m(self, conn, method, url, timeout, chunked, **httplib_request_kw)\u001b[0m\n\u001b[0;32m    441\u001b[0m \u001b[39mexcept\u001b[39;00m \u001b[39mTypeError\u001b[39;00m:\n\u001b[0;32m    442\u001b[0m     \u001b[39m# Python 3\u001b[39;00m\n\u001b[0;32m    443\u001b[0m     \u001b[39mtry\u001b[39;00m:\n\u001b[1;32m--> 444\u001b[0m         httplib_response \u001b[39m=\u001b[39m conn\u001b[39m.\u001b[39;49mgetresponse()\n\u001b[0;32m    445\u001b[0m     \u001b[39mexcept\u001b[39;00m \u001b[39mBaseException\u001b[39;00m \u001b[39mas\u001b[39;00m e:\n\u001b[0;32m    446\u001b[0m         \u001b[39m# Remove the TypeError from the exception chain in\u001b[39;00m\n\u001b[0;32m    447\u001b[0m         \u001b[39m# Python 3 (including for exceptions like SystemExit).\u001b[39;00m\n\u001b[0;32m    448\u001b[0m         \u001b[39m# Otherwise it looks like a bug in the code.\u001b[39;00m\n\u001b[0;32m    449\u001b[0m         six\u001b[39m.\u001b[39mraise_from(e, \u001b[39mNone\u001b[39;00m)\n",
      "File \u001b[1;32mC:\\Program Files\\Python310\\lib\\http\\client.py:1374\u001b[0m, in \u001b[0;36mHTTPConnection.getresponse\u001b[1;34m(self)\u001b[0m\n\u001b[0;32m   1372\u001b[0m \u001b[39mtry\u001b[39;00m:\n\u001b[0;32m   1373\u001b[0m     \u001b[39mtry\u001b[39;00m:\n\u001b[1;32m-> 1374\u001b[0m         response\u001b[39m.\u001b[39;49mbegin()\n\u001b[0;32m   1375\u001b[0m     \u001b[39mexcept\u001b[39;00m \u001b[39mConnectionError\u001b[39;00m:\n\u001b[0;32m   1376\u001b[0m         \u001b[39mself\u001b[39m\u001b[39m.\u001b[39mclose()\n",
      "File \u001b[1;32mC:\\Program Files\\Python310\\lib\\http\\client.py:318\u001b[0m, in \u001b[0;36mHTTPResponse.begin\u001b[1;34m(self)\u001b[0m\n\u001b[0;32m    316\u001b[0m \u001b[39m# read until we get a non-100 response\u001b[39;00m\n\u001b[0;32m    317\u001b[0m \u001b[39mwhile\u001b[39;00m \u001b[39mTrue\u001b[39;00m:\n\u001b[1;32m--> 318\u001b[0m     version, status, reason \u001b[39m=\u001b[39m \u001b[39mself\u001b[39;49m\u001b[39m.\u001b[39;49m_read_status()\n\u001b[0;32m    319\u001b[0m     \u001b[39mif\u001b[39;00m status \u001b[39m!=\u001b[39m CONTINUE:\n\u001b[0;32m    320\u001b[0m         \u001b[39mbreak\u001b[39;00m\n",
      "File \u001b[1;32mC:\\Program Files\\Python310\\lib\\http\\client.py:279\u001b[0m, in \u001b[0;36mHTTPResponse._read_status\u001b[1;34m(self)\u001b[0m\n\u001b[0;32m    278\u001b[0m \u001b[39mdef\u001b[39;00m \u001b[39m_read_status\u001b[39m(\u001b[39mself\u001b[39m):\n\u001b[1;32m--> 279\u001b[0m     line \u001b[39m=\u001b[39m \u001b[39mstr\u001b[39m(\u001b[39mself\u001b[39;49m\u001b[39m.\u001b[39;49mfp\u001b[39m.\u001b[39;49mreadline(_MAXLINE \u001b[39m+\u001b[39;49m \u001b[39m1\u001b[39;49m), \u001b[39m\"\u001b[39m\u001b[39miso-8859-1\u001b[39m\u001b[39m\"\u001b[39m)\n\u001b[0;32m    280\u001b[0m     \u001b[39mif\u001b[39;00m \u001b[39mlen\u001b[39m(line) \u001b[39m>\u001b[39m _MAXLINE:\n\u001b[0;32m    281\u001b[0m         \u001b[39mraise\u001b[39;00m LineTooLong(\u001b[39m\"\u001b[39m\u001b[39mstatus line\u001b[39m\u001b[39m\"\u001b[39m)\n",
      "File \u001b[1;32mC:\\Program Files\\Python310\\lib\\socket.py:705\u001b[0m, in \u001b[0;36mSocketIO.readinto\u001b[1;34m(self, b)\u001b[0m\n\u001b[0;32m    703\u001b[0m \u001b[39mwhile\u001b[39;00m \u001b[39mTrue\u001b[39;00m:\n\u001b[0;32m    704\u001b[0m     \u001b[39mtry\u001b[39;00m:\n\u001b[1;32m--> 705\u001b[0m         \u001b[39mreturn\u001b[39;00m \u001b[39mself\u001b[39;49m\u001b[39m.\u001b[39;49m_sock\u001b[39m.\u001b[39;49mrecv_into(b)\n\u001b[0;32m    706\u001b[0m     \u001b[39mexcept\u001b[39;00m timeout:\n\u001b[0;32m    707\u001b[0m         \u001b[39mself\u001b[39m\u001b[39m.\u001b[39m_timeout_occurred \u001b[39m=\u001b[39m \u001b[39mTrue\u001b[39;00m\n",
      "\u001b[1;31mKeyboardInterrupt\u001b[0m: "
     ]
    }
   ],
   "source": [
    "village_links = []\n",
    "state_elements = driver.find_elements(by=By.CSS_SELECTOR, value=\".tab span a\")\n",
    "\n",
    "state_links = []\n",
    "for state_element in state_elements:\n",
    "    state_link = state_element.get_attribute(\"href\")\n",
    "    state_links.append(state_link)\n",
    "    # break\n",
    "\n",
    "for state_link in state_links:\n",
    "    driver.get(state_link)\n",
    "    scroll_bottom()\n",
    "    district_elements = driver.find_elements(\n",
    "        by=By.CSS_SELECTOR, value=\".vict tbody tr td a\"\n",
    "    )\n",
    "\n",
    "    district_links = []\n",
    "    for district_element in district_elements:\n",
    "        district_link = district_element.get_attribute(\"href\")\n",
    "        district_links.append(district_link)\n",
    "        # break\n",
    "\n",
    "    for district_link in district_links:\n",
    "        driver.get(district_link)\n",
    "        scroll_bottom()\n",
    "        tehsil_elements = driver.find_elements(\n",
    "            by=By.CSS_SELECTOR, value=\".vict tbody tr td a\"\n",
    "        )\n",
    "\n",
    "        tehsil_links = []\n",
    "        for tehsil_element in tehsil_elements:\n",
    "            tehsil_link = tehsil_element.get_attribute(\"href\")\n",
    "            tehsil_links.append(tehsil_link)\n",
    "            # break\n",
    "\n",
    "        for tehsil_link in tehsil_links:\n",
    "            driver.get(tehsil_link)\n",
    "            scroll_bottom()\n",
    "            village_elements = driver.find_elements(\n",
    "                by=By.CSS_SELECTOR, value=\".vict tbody tr td a\"\n",
    "            )\n",
    "\n",
    "            for village_element in village_elements:\n",
    "                village_link = village_element.get_attribute(\"href\")\n",
    "                village_links.append(village_link)\n",
    "    # break\n"
   ]
  },
  {
   "cell_type": "markdown",
   "metadata": {},
   "source": [
    "Collect Data"
   ]
  },
  {
   "cell_type": "code",
   "execution_count": 11,
   "metadata": {},
   "outputs": [
    {
     "name": "stdout",
     "output_type": "stream",
     "text": [
      "{'state_name': 'Andaman & Nicobar Islands', 'district_name': 'Nicobars', 'tehsil_name': 'Car Nicobar', 'village_name': 'Arong', 'village_link': 'https://villageinfo.in/andaman-&-nicobar-islands/nicobars/car-nicobar/arong.html', 'pincode': 'N/A', 'area': 'N/A', 'population': '1,194', 'households': '233', 'nearest_town': 'Port Blair (287 km)', 'total_population': {'total': '1,194', 'male': '617', 'female': '577'}, 'literate_population': {'total': '887', 'male': '475', 'female': '412'}, 'illiterate_population': {'total': '307', 'male': '142', 'female': '165'}, 'public_bus_service': 'Available within village', 'private_bus_service': 'Available', 'railway_station': 'Available', 'about': ' According to Census 2011 information the location code or village code of Arong village is 645015. Arong village is located in Car Nicobar tehsil of Nicobars district in Andaman & Nicobar Islands, India. Car Nicobar is the district & sub-district headquarter of Arong village. Arong has a total population of 1,194 peoples, out of which male population is 617 while female population is 577. Literacy rate of arong village is 74.29% out of which 76.99% males and 71.40% females are literate. There are about 233 houses in arong village. Port Blair is nearest town to arong for all major economic activities, which is approximately 287km away.', 'nearby_villages': ['Mus', 'Teetop', 'Sawai', 'Kimois', 'Kakana', 'Iaf Camp', 'Malacca', 'Perka', 'Tamaloo']}\n",
      "{'state_name': 'Andaman & Nicobar Islands', 'district_name': 'Nicobars', 'tehsil_name': 'Car Nicobar', 'village_name': 'Big Lapati', 'village_link': 'https://villageinfo.in/andaman-&-nicobar-islands/nicobars/car-nicobar/big-lapati.html', 'pincode': 'N/A', 'area': 'N/A', 'population': '1,098', 'households': '271', 'nearest_town': 'Port Blair (278 km)', 'total_population': {'total': '1,098', 'male': '584', 'female': '514'}, 'literate_population': {'total': '736', 'male': '413', 'female': '323'}, 'illiterate_population': {'total': '362', 'male': '171', 'female': '191'}, 'public_bus_service': 'Available within village', 'private_bus_service': 'Available within 10+ km distance', 'railway_station': 'Available within 10+ km distance', 'about': ' According to Census 2011 information the location code or village code of Big Lapati village is 645025. Big Lapati village is located in Car Nicobar tehsil of Nicobars district in Andaman & Nicobar Islands, India. It is situated 10km away from Car Nicobar, which is both district & sub-district headquarter of Big Lapati village. Big Lapati has a total population of 1,098 peoples, out of which male population is 584 while female population is 514. Literacy rate of big lapati village is 67.03% out of which 70.72% males and 62.84% females are literate. There are about 271 houses in big lapati village. Port Blair is nearest town to big lapati for all major economic activities, which is approximately 278km away.', 'nearby_villages': ['Perka', 'Tamaloo', 'Kinyuka', 'Chuckchucha', 'Tapoiming', 'Small Lapati', 'Kinmai', 'Tahaila', 'Chongkamong', 'Alhiat', 'Kuitasuk']}\n",
      "{'state_name': 'Andaman & Nicobar Islands', 'district_name': 'Nicobars', 'tehsil_name': 'Car Nicobar', 'village_name': 'Chuckchucha', 'village_link': 'https://villageinfo.in/andaman-&-nicobar-islands/nicobars/car-nicobar/chuckchucha.html', 'pincode': 'N/A', 'area': 'N/A', 'population': '1,021', 'households': '231', 'nearest_town': 'Port Blair (278 km)', 'total_population': {'total': '1,021', 'male': '536', 'female': '485'}, 'literate_population': {'total': '677', 'male': '372', 'female': '305'}, 'illiterate_population': {'total': '344', 'male': '164', 'female': '180'}, 'public_bus_service': 'Available within village', 'private_bus_service': 'Available within 10+ km distance', 'railway_station': 'Available within 10+ km distance', 'about': ' According to Census 2011 information the location code or village code of Chuckchucha village is 645023. Chuckchucha village is located in Car Nicobar tehsil of Nicobars district in Andaman & Nicobar Islands, India. Car Nicobar is the district & sub-district headquarter of Chuckchucha village. Chuckchucha has a total population of 1,021 peoples, out of which male population is 536 while female population is 485. Literacy rate of chuckchucha village is 66.31% out of which 69.40% males and 62.89% females are literate. There are about 231 houses in chuckchucha village. Port Blair is nearest town to chuckchucha for all major economic activities, which is approximately 278km away.', 'nearby_villages': ['Iaf Camp', 'Malacca', 'Perka', 'Tamaloo', 'Kinyuka', 'Tapoiming', 'Big Lapati', 'Small Lapati', 'Kinmai', 'Tahaila', 'Chongkamong']}\n",
      "{'state_name': 'Andaman & Nicobar Islands', 'district_name': 'Nicobars', 'tehsil_name': 'Car Nicobar', 'village_name': 'Iaf Camp', 'village_link': 'https://villageinfo.in/andaman-&-nicobar-islands/nicobars/car-nicobar/iaf-camp.html', 'pincode': 'N/A', 'area': 'N/A', 'population': '731', 'households': '31', 'nearest_town': 'Port Blair (287 km)', 'total_population': {'total': '731', 'male': '723', 'female': '8'}, 'literate_population': {'total': '729', 'male': '723', 'female': '6'}, 'illiterate_population': {'total': '2', 'male': 'N/A', 'female': '2'}, 'public_bus_service': 'Available', 'private_bus_service': 'Available', 'railway_station': 'Available', 'about': ' According to Census 2011 information the location code or village code of Iaf Camp village is 645018. Iaf Camp village is located in Car Nicobar tehsil of Nicobars district in Andaman & Nicobar Islands, India. Car Nicobar is the district & sub-district headquarter of Iaf Camp village. Iaf Camp has a total population of 731 peoples, out of which male population is 723 while female population is 8. Literacy rate of iaf camp village is 99.73% out of which 100.00% males and 75.00% females are literate. There are about 31 houses in iaf camp village. Port Blair is nearest town to iaf camp for all major economic activities, which is approximately 287km away.', 'nearby_villages': ['Teetop', 'Sawai', 'Arong', 'Kimois', 'Kakana', 'Malacca', 'Perka', 'Tamaloo', 'Kinyuka', 'Chuckchucha', 'Tapoiming']}\n",
      "{'state_name': 'Andaman & Nicobar Islands', 'district_name': 'Nicobars', 'tehsil_name': 'Car Nicobar', 'village_name': 'Kakana', 'village_link': 'https://villageinfo.in/andaman-&-nicobar-islands/nicobars/car-nicobar/kakana.html', 'pincode': 'N/A', 'area': 'N/A', 'population': '841', 'households': '231', 'nearest_town': 'Port Blair (278 km)', 'total_population': {'total': '841', 'male': '456', 'female': '385'}, 'literate_population': {'total': '559', 'male': '335', 'female': '224'}, 'illiterate_population': {'total': '282', 'male': '121', 'female': '161'}, 'public_bus_service': 'Available within village', 'private_bus_service': 'Available within 10+ km distance', 'railway_station': 'Available within 10+ km distance', 'about': ' According to Census 2011 information the location code or village code of Kakana village is 645017. Kakana village is located in Car Nicobar tehsil of Nicobars district in Andaman & Nicobar Islands, India. Car Nicobar is the district & sub-district headquarter of Kakana village. Kakana has a total population of 841 peoples, out of which male population is 456 while female population is 385. Literacy rate of kakana village is 66.47% out of which 73.46% males and 58.18% females are literate. There are about 231 houses in kakana village. Port Blair is nearest town to kakana for all major economic activities, which is approximately 278km away.', 'nearby_villages': ['Mus', 'Teetop', 'Sawai', 'Arong', 'Kimois', 'Iaf Camp', 'Malacca', 'Perka', 'Tamaloo', 'Kinyuka', 'Chuckchucha']}\n",
      "{'state_name': 'Andaman & Nicobar Islands', 'district_name': 'Nicobars', 'tehsil_name': 'Car Nicobar', 'village_name': 'Kimois', 'village_link': 'https://villageinfo.in/andaman-&-nicobar-islands/nicobars/car-nicobar/kimois.html', 'pincode': 'N/A', 'area': 'N/A', 'population': '382', 'households': '92', 'nearest_town': 'Port Blair (287 km)', 'total_population': {'total': '382', 'male': '224', 'female': '158'}, 'literate_population': {'total': '258', 'male': '163', 'female': '95'}, 'illiterate_population': {'total': '124', 'male': '61', 'female': '63'}, 'public_bus_service': 'Available within village', 'private_bus_service': 'Available', 'railway_station': 'Available within 10+ km distance', 'about': ' According to Census 2011 information the location code or village code of Kimois village is 645016. Kimois village is located in Car Nicobar tehsil of Nicobars district in Andaman & Nicobar Islands, India. Car Nicobar is the district & sub-district headquarter of Kimois village. Kimois has a total population of 382 peoples, out of which male population is 224 while female population is 158. Literacy rate of kimois village is 67.54% out of which 72.77% males and 60.13% females are literate. There are about 92 houses in kimois village. Port Blair is nearest town to kimois for all major economic activities, which is approximately 287km away.', 'nearby_villages': ['Mus', 'Teetop', 'Sawai', 'Arong', 'Kakana', 'Iaf Camp', 'Malacca', 'Perka', 'Tamaloo', 'Kinyuka']}\n",
      "{'state_name': 'Andaman & Nicobar Islands', 'district_name': 'Nicobars', 'tehsil_name': 'Car Nicobar', 'village_name': 'Kinmai', 'village_link': 'https://villageinfo.in/andaman-&-nicobar-islands/nicobars/car-nicobar/kinmai.html', 'pincode': 'N/A', 'area': 'N/A', 'population': '574', 'households': '152', 'nearest_town': 'Port Blair (278 km)', 'total_population': {'total': '574', 'male': '311', 'female': '263'}, 'literate_population': {'total': '376', 'male': '221', 'female': '155'}, 'illiterate_population': {'total': '198', 'male': '90', 'female': '108'}, 'public_bus_service': 'Available within village', 'private_bus_service': 'Available within 10+ km distance', 'railway_station': 'Available within 10+ km distance', 'about': ' According to Census 2011 information the location code or village code of Kinmai village is 645027. Kinmai village is located in Car Nicobar tehsil of Nicobars district in Andaman & Nicobar Islands, India. It is situated 14km away from Car Nicobar, which is both district & sub-district headquarter of Kinmai village. Kinmai has a total population of 574 peoples, out of which male population is 311 while female population is 263. Literacy rate of kinmai village is 65.51% out of which 71.06% males and 58.94% females are literate. There are about 152 houses in kinmai village. Port Blair is nearest town to kinmai for all major economic activities, which is approximately 278km away.', 'nearby_villages': ['Kinyuka', 'Chuckchucha', 'Tapoiming', 'Big Lapati', 'Small Lapati', 'Tahaila', 'Chongkamong', 'Alhiat', 'Kuitasuk', 'Raihion', 'Tillang Chong Island']}\n",
      "{'state_name': 'Andaman & Nicobar Islands', 'district_name': 'Nicobars', 'tehsil_name': 'Car Nicobar', 'village_name': 'Kinyuka', 'village_link': 'https://villageinfo.in/andaman-&-nicobar-islands/nicobars/car-nicobar/kinyuka.html', 'pincode': 'N/A', 'area': 'N/A', 'population': '1,120', 'households': '309', 'nearest_town': 'Port Blair (278 km)', 'total_population': {'total': '1,120', 'male': '558', 'female': '562'}, 'literate_population': {'total': '733', 'male': '387', 'female': '346'}, 'illiterate_population': {'total': '387', 'male': '171', 'female': '216'}, 'public_bus_service': 'Available within village', 'private_bus_service': 'Available within 10+ km distance', 'railway_station': 'Available within 10+ km distance', 'about': ' According to Census 2011 information the location code or village code of Kinyuka village is 645022. Kinyuka village is located in Car Nicobar tehsil of Nicobars district in Andaman & Nicobar Islands, India. It is situated 4km away from Car Nicobar, which is both district & sub-district headquarter of Kinyuka village. Kinyuka has a total population of 1,120 peoples, out of which male population is 558 while female population is 562. Literacy rate of kinyuka village is 65.45% out of which 69.35% males and 61.57% females are literate. There are about 309 houses in kinyuka village. Port Blair is nearest town to kinyuka for all major economic activities, which is approximately 278km away.', 'nearby_villages': ['Kakana', 'Iaf Camp', 'Malacca', 'Perka', 'Tamaloo', 'Chuckchucha', 'Tapoiming', 'Big Lapati', 'Small Lapati', 'Kinmai', 'Tahaila']}\n",
      "{'state_name': 'Andaman & Nicobar Islands', 'district_name': 'Nicobars', 'tehsil_name': 'Car Nicobar', 'village_name': 'Malacca', 'village_link': 'https://villageinfo.in/andaman-&-nicobar-islands/nicobars/car-nicobar/malacca.html', 'pincode': 'N/A', 'area': 'N/A', 'population': '1,637', 'households': '368', 'nearest_town': 'Port Blair (278 km)', 'total_population': {'total': '1,637', 'male': '928', 'female': '709'}, 'literate_population': {'total': '1,170', 'male': '715', 'female': '455'}, 'illiterate_population': {'total': '467', 'male': '213', 'female': '254'}, 'public_bus_service': 'Available within village', 'private_bus_service': 'Available within 10+ km distance', 'railway_station': 'Available within 10+ km distance', 'about': ' According to Census 2011 information the location code or village code of Malacca village is 645019. Malacca village is located in Car Nicobar tehsil of Nicobars district in Andaman & Nicobar Islands, India. Car Nicobar is the district & sub-district headquarter of Malacca village. Malacca has a total population of 1,637 peoples, out of which male population is 928 while female population is 709. Literacy rate of malacca village is 71.47% out of which 77.05% males and 64.17% females are literate. There are about 368 houses in malacca village. Port Blair is nearest town to malacca for all major economic activities, which is approximately 278km away.', 'nearby_villages': ['Sawai', 'Arong', 'Kimois', 'Kakana', 'Iaf Camp', 'Perka', 'Tamaloo', 'Kinyuka', 'Chuckchucha', 'Tapoiming', 'Big Lapati']}\n",
      "{'state_name': 'Andaman & Nicobar Islands', 'district_name': 'Nicobars', 'tehsil_name': 'Car Nicobar', 'village_name': 'Mus', 'village_link': 'https://villageinfo.in/andaman-&-nicobar-islands/nicobars/car-nicobar/mus.html', 'pincode': 'N/A', 'area': 'N/A', 'population': '1,553', 'households': '365', 'nearest_town': 'Port Blair (278 km)', 'total_population': {'total': '1,553', 'male': '787', 'female': '766'}, 'literate_population': {'total': '1,114', 'male': '619', 'female': '495'}, 'illiterate_population': {'total': '439', 'male': '168', 'female': '271'}, 'public_bus_service': 'Available within village', 'private_bus_service': 'Available', 'railway_station': 'Available within 10+ km distance', 'about': ' According to Census 2011 information the location code or village code of Mus village is 645012. Mus village is located in Car Nicobar tehsil of Nicobars district in Andaman & Nicobar Islands, India. Car Nicobar is the district & sub-district headquarter of Mus village. Mus has a total population of 1,553 peoples, out of which male population is 787 while female population is 766. Literacy rate of mus village is 71.73% out of which 78.65% males and 64.62% females are literate. There are about 365 houses in mus village. Port Blair is nearest town to mus for all major economic activities, which is approximately 278km away.', 'nearby_villages': ['Teetop', 'Sawai', 'Arong', 'Kimois', 'Kakana', 'Iaf Camp']}\n",
      "{'state_name': 'Andaman & Nicobar Islands', 'district_name': 'Nicobars', 'tehsil_name': 'Car Nicobar', 'village_name': 'Perka', 'village_link': 'https://villageinfo.in/andaman-&-nicobar-islands/nicobars/car-nicobar/perka.html', 'pincode': '744301', 'area': 'N/A', 'population': '2,527', 'households': '711', 'nearest_town': 'Port Blair (287 km)', 'total_population': {'total': '2,527', 'male': '1,363', 'female': '1,164'}, 'literate_population': {'total': '1,684', 'male': '999', 'female': '685'}, 'illiterate_population': {'total': '843', 'male': '364', 'female': '479'}, 'public_bus_service': 'Available within village', 'private_bus_service': 'Available', 'railway_station': 'Available', 'about': ' According to Census 2011 information the location code or village code of Perka village is 645020. Perka village is located in Car Nicobar tehsil of Nicobars district in Andaman & Nicobar Islands, India. Car Nicoabr is the district & sub-district headquarter of Perka village. Perka has a total population of 2,527 peoples, out of which male population is 1,363 while female population is 1,164. Literacy rate of perka village is 66.64% out of which 73.29% males and 58.85% females are literate. There are about 711 houses in perka village. Pincode of perka village locality is 744301. Port Blair is nearest town to perka for all major economic activities, which is approximately 287km away.', 'nearby_villages': ['Arong', 'Kimois', 'Kakana', 'Iaf Camp', 'Malacca', 'Tamaloo', 'Kinyuka', 'Chuckchucha', 'Tapoiming', 'Big Lapati', 'Small Lapati']}\n",
      "{'state_name': 'Andaman & Nicobar Islands', 'district_name': 'Nicobars', 'tehsil_name': 'Car Nicobar', 'village_name': 'Sawai', 'village_link': 'https://villageinfo.in/andaman-&-nicobar-islands/nicobars/car-nicobar/sawai.html', 'pincode': 'N/A', 'area': 'N/A', 'population': '1,247', 'households': '286', 'nearest_town': 'Port Blair (278 km)', 'total_population': {'total': '1,247', 'male': '632', 'female': '615'}, 'literate_population': {'total': '927', 'male': '483', 'female': '444'}, 'illiterate_population': {'total': '320', 'male': '149', 'female': '171'}, 'public_bus_service': 'Available within village', 'private_bus_service': 'Available', 'railway_station': 'Available within 10+ km distance', 'about': ' According to Census 2011 information the location code or village code of Sawai village is 645014. Sawai village is located in Car Nicobar tehsil of Nicobars district in Andaman & Nicobar Islands, India. Car Nicobar is the district & sub-district headquarter of Sawai village. Sawai has a total population of 1,247 peoples, out of which male population is 632 while female population is 615. Literacy rate of sawai village is 74.34% out of which 76.42% males and 72.20% females are literate. There are about 286 houses in sawai village. Port Blair is nearest town to sawai for all major economic activities, which is approximately 278km away.', 'nearby_villages': ['Mus', 'Teetop', 'Arong', 'Kimois', 'Kakana', 'Iaf Camp', 'Malacca', 'Perka']}\n"
     ]
    }
   ],
   "source": [
    "data = []\n",
    "for village_link in village_links:\n",
    "    driver.get(village_link)\n",
    "    scroll_bottom()\n",
    "    dict_data = {}\n",
    "\n",
    "    \n",
    "    dict_data[\"state_name\"] = driver.find_element(\n",
    "        by=By.CSS_SELECTOR, value=\".vi tbody tr:nth-child(4) td:nth-child(2)\"\n",
    "    ).text\n",
    "    dict_data[\"district_name\"] = driver.find_element(\n",
    "        by=By.CSS_SELECTOR, value=\".vi tbody tr:nth-child(3) td:nth-child(2)\"\n",
    "    ).text\n",
    "    dict_data[\"tehsil_name\"] = driver.find_element(\n",
    "        by=By.CSS_SELECTOR, value=\".vi tbody tr:nth-child(2) td:nth-child(2)\"\n",
    "    ).text\n",
    "    dict_data[\"village_name\"] = driver.find_element(\n",
    "        by=By.CSS_SELECTOR, value=\".left-column h2\"\n",
    "    ).text\n",
    "    dict_data[\"village_link\"] = village_link\n",
    "    dict_data[\"pincode\"] = driver.find_element(\n",
    "        by=By.CSS_SELECTOR, value=\".vi tbody tr:nth-child(5) td:nth-child(2)\"\n",
    "    ).text\n",
    "    dict_data[\"area\"] = driver.find_element(\n",
    "        by=By.CSS_SELECTOR, value=\".vi tbody tr:nth-child(6) td:nth-child(2)\"\n",
    "    ).text\n",
    "    dict_data[\"population\"] = driver.find_element(\n",
    "        by=By.CSS_SELECTOR, value=\".vi tbody tr:nth-child(7) td:nth-child(2)\"\n",
    "    ).text\n",
    "    dict_data[\"households\"] = driver.find_element(\n",
    "        by=By.CSS_SELECTOR, value=\".vi tbody tr:nth-child(8) td:nth-child(2)\"\n",
    "    ).text\n",
    "    dict_data[\"nearest_town\"] = driver.find_element(\n",
    "        by=By.CSS_SELECTOR, value=\".vi tbody tr:nth-child(9) td:nth-child(2)\"\n",
    "    ).text\n",
    "\n",
    "    dict_data[\"total_population\"] = {}\n",
    "    dict_data[\"total_population\"][\"total\"] = driver.find_element(\n",
    "        by=By.CSS_SELECTOR, value=\".vict tbody tr:nth-child(1) td:nth-child(2)\"\n",
    "    ).text\n",
    "    dict_data[\"total_population\"][\"male\"] = driver.find_element(\n",
    "        by=By.CSS_SELECTOR, value=\".vict tbody tr:nth-child(1) td:nth-child(3)\"\n",
    "    ).text\n",
    "    dict_data[\"total_population\"][\"female\"] = driver.find_element(\n",
    "        by=By.CSS_SELECTOR, value=\".vict tbody tr:nth-child(1) td:nth-child(4)\"\n",
    "    ).text\n",
    "\n",
    "    dict_data[\"literate_population\"] = {}\n",
    "    dict_data[\"literate_population\"][\"total\"] = driver.find_element(\n",
    "        by=By.CSS_SELECTOR, value=\".vict tbody tr:nth-child(2) td:nth-child(2)\"\n",
    "    ).text\n",
    "    dict_data[\"literate_population\"][\"male\"] = driver.find_element(\n",
    "        by=By.CSS_SELECTOR, value=\".vict tbody tr:nth-child(2) td:nth-child(3)\"\n",
    "    ).text\n",
    "    dict_data[\"literate_population\"][\"female\"] = driver.find_element(\n",
    "        by=By.CSS_SELECTOR, value=\".vict tbody tr:nth-child(2) td:nth-child(4)\"\n",
    "    ).text\n",
    "\n",
    "    dict_data[\"illiterate_population\"] = {}\n",
    "    dict_data[\"illiterate_population\"][\"total\"] = driver.find_element(\n",
    "        by=By.CSS_SELECTOR, value=\".vict tbody tr:nth-child(3) td:nth-child(2)\"\n",
    "    ).text\n",
    "    dict_data[\"illiterate_population\"][\"male\"] = driver.find_element(\n",
    "        by=By.CSS_SELECTOR, value=\".vict tbody tr:nth-child(3) td:nth-child(3)\"\n",
    "    ).text\n",
    "    dict_data[\"illiterate_population\"][\"female\"] = driver.find_element(\n",
    "        by=By.CSS_SELECTOR, value=\".vict tbody tr:nth-child(3) td:nth-child(4)\"\n",
    "    ).text\n",
    "\n",
    "    dict_data[\"public_bus_service\"] = driver.find_element(\n",
    "        by=By.CSS_SELECTOR, value=\".table .row:nth-child(2) .column:nth-child(2)\"\n",
    "    ).text\n",
    "    dict_data[\"private_bus_service\"] = driver.find_element(\n",
    "        by=By.CSS_SELECTOR, value=\".table .row:nth-child(3) .column:nth-child(2)\"\n",
    "    ).text\n",
    "    dict_data[\"railway_station\"] = driver.find_element(\n",
    "        by=By.CSS_SELECTOR, value=\".table .row:nth-child(4) .column:nth-child(2)\"\n",
    "    ).text\n",
    "\n",
    "    about_elements_list = driver.find_elements(\n",
    "        by=By.CSS_SELECTOR, value=\".left-column .text-justify\"\n",
    "    )\n",
    "    about = \"\"\n",
    "    for about_element in about_elements_list:\n",
    "        about += \" \" + about_element.text\n",
    "        # about+=\"\\n\\n\"\n",
    "    dict_data[\"about\"] = about\n",
    "\n",
    "    nearby_villages_elements_list = driver.find_elements(\n",
    "        by=By.CSS_SELECTOR, value=\".vi-nbvli a\"\n",
    "    )\n",
    "    nearby_villages = []\n",
    "    for nearby_villages_element in nearby_villages_elements_list:\n",
    "        nearby_villages.append(nearby_villages_element.text)\n",
    "    dict_data[\"nearby_villages\"] = nearby_villages\n",
    "\n",
    "    print(dict_data)\n",
    "    data.append(dict_data)\n",
    "    # break\n"
   ]
  },
  {
   "cell_type": "markdown",
   "metadata": {},
   "source": [
    "Dump Data to JSON"
   ]
  },
  {
   "cell_type": "code",
   "execution_count": null,
   "metadata": {},
   "outputs": [],
   "source": [
    "with open(\"data.json\", \"w\") as file1:\n",
    "    json.dump(data, file1)"
   ]
  },
  {
   "cell_type": "markdown",
   "metadata": {},
   "source": [
    "Quit Webdriver"
   ]
  },
  {
   "cell_type": "code",
   "execution_count": null,
   "metadata": {},
   "outputs": [],
   "source": [
    "driver.close()"
   ]
  }
 ],
 "metadata": {
  "kernelspec": {
   "display_name": "Python 3.10.5 ('.venv': poetry)",
   "language": "python",
   "name": "python3"
  },
  "language_info": {
   "codemirror_mode": {
    "name": "ipython",
    "version": 3
   },
   "file_extension": ".py",
   "mimetype": "text/x-python",
   "name": "python",
   "nbconvert_exporter": "python",
   "pygments_lexer": "ipython3",
   "version": "3.10.5"
  },
  "orig_nbformat": 4,
  "vscode": {
   "interpreter": {
    "hash": "45dc2895d9fa81570e558a35d36c1dfdc11f020486dd1b8517728e12d4de3ce1"
   }
  }
 },
 "nbformat": 4,
 "nbformat_minor": 2
}
