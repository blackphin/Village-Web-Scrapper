{
 "cells": [
  {
   "cell_type": "markdown",
   "metadata": {},
   "source": [
    "Imports"
   ]
  },
  {
   "cell_type": "code",
   "execution_count": 50,
   "metadata": {},
   "outputs": [],
   "source": [
    "from time import sleep\n",
    "import pyautogui, json\n",
    "\n",
    "from selenium import webdriver\n",
    "from selenium.webdriver.chrome.service import Service\n",
    "from selenium.webdriver.chrome.options import Options\n",
    "from selenium.webdriver.common.by import By\n",
    "from selenium.webdriver.common.keys import Keys\n",
    "\n",
    "from webdriver_manager.chrome import ChromeDriverManager\n"
   ]
  },
  {
   "cell_type": "markdown",
   "metadata": {},
   "source": [
    "Webdriver Initialization"
   ]
  },
  {
   "cell_type": "code",
   "execution_count": 59,
   "metadata": {},
   "outputs": [],
   "source": [
    "url='https://villageinfo.in'\n",
    "\n",
    "options = Options()\n",
    "options.add_argument(\"start-maximized\")\n",
    "driver = webdriver.Chrome(\n",
    "    service=Service(ChromeDriverManager().install()), options=options\n",
    ")\n",
    "pyautogui.hotkey(\"win\", \"d\")\n",
    "pyautogui.hotkey(\"alt\", \"tab\")\n",
    "pyautogui.hotkey(\"alt\", \"tab\")\n",
    "\n",
    "driver.get(url)"
   ]
  },
  {
   "cell_type": "markdown",
   "metadata": {},
   "source": [
    "Collect Village Link List"
   ]
  },
  {
   "cell_type": "code",
   "execution_count": 60,
   "metadata": {},
   "outputs": [],
   "source": [
    "driver.get(url)\n",
    "\n",
    "village_links = []\n",
    "state_elements = driver.find_elements(by=By.CSS_SELECTOR, value=\".tab span a\")\n",
    "\n",
    "state_links = []\n",
    "for state_element in state_elements:\n",
    "    state_link = state_element.get_attribute(\"href\")\n",
    "    state_links.append(state_link)\n",
    "    break\n",
    "\n",
    "for state_link in state_links:\n",
    "    driver.get(state_link)\n",
    "    district_elements = driver.find_elements(\n",
    "        by=By.CSS_SELECTOR, value=\".vict tbody tr td a\"\n",
    "    )\n",
    "\n",
    "    district_links = []\n",
    "    for district_element in district_elements:\n",
    "        district_link = district_element.get_attribute(\"href\")\n",
    "        district_links.append(district_link)\n",
    "\n",
    "    for district_link in district_links:\n",
    "        driver.get(district_link)\n",
    "        tehsil_elements = driver.find_elements(\n",
    "            by=By.CSS_SELECTOR, value=\".vict tbody tr td a\"\n",
    "        )\n",
    "\n",
    "        tehsil_links = []\n",
    "        for tehsil_element in tehsil_elements:\n",
    "            tehsil_link = tehsil_element.get_attribute(\"href\")\n",
    "            tehsil_links.append(tehsil_link)\n",
    "\n",
    "        for tehsil_link in tehsil_links:\n",
    "            driver.get(tehsil_link)\n",
    "            village_elements = driver.find_elements(\n",
    "                by=By.CSS_SELECTOR, value=\".vict tbody tr td a\"\n",
    "            )\n",
    "\n",
    "            for village_element in village_elements:\n",
    "                village_link = village_element.get_attribute(\"href\")\n",
    "                village_links.append(village_link)\n"
   ]
  },
  {
   "cell_type": "markdown",
   "metadata": {},
   "source": [
    "Collect Data"
   ]
  },
  {
   "cell_type": "code",
   "execution_count": null,
   "metadata": {},
   "outputs": [],
   "source": []
  },
  {
   "cell_type": "markdown",
   "metadata": {},
   "source": [
    "Dump Data to JSON"
   ]
  },
  {
   "cell_type": "code",
   "execution_count": null,
   "metadata": {},
   "outputs": [],
   "source": [
    "with open(\"data.json\", \"w\") as file1:\n",
    "    json.dump(data, file1)"
   ]
  },
  {
   "cell_type": "markdown",
   "metadata": {},
   "source": [
    "Quit Webdriver"
   ]
  },
  {
   "cell_type": "code",
   "execution_count": 46,
   "metadata": {},
   "outputs": [],
   "source": [
    "driver.close()"
   ]
  }
 ],
 "metadata": {
  "kernelspec": {
   "display_name": "Python 3.10.5 ('venv_swiggy_web_scrapper': venv)",
   "language": "python",
   "name": "python3"
  },
  "language_info": {
   "codemirror_mode": {
    "name": "ipython",
    "version": 3
   },
   "file_extension": ".py",
   "mimetype": "text/x-python",
   "name": "python",
   "nbconvert_exporter": "python",
   "pygments_lexer": "ipython3",
   "version": "3.10.5"
  },
  "orig_nbformat": 4,
  "vscode": {
   "interpreter": {
    "hash": "ecba91e3c4541b876ee9a76b53160b5e85c501c619630f9ba6e97c8e96c5d16d"
   }
  }
 },
 "nbformat": 4,
 "nbformat_minor": 2
}
