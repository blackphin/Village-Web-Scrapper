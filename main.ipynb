{
 "cells": [
  {
   "cell_type": "markdown",
   "metadata": {},
   "source": [
    "Imports"
   ]
  },
  {
   "cell_type": "code",
   "execution_count": 1,
   "metadata": {},
   "outputs": [],
   "source": [
    "import json\n",
    "\n",
    "from time import sleep\n",
    "\n",
    "from selenium import webdriver\n",
    "from selenium.webdriver.chrome.service import Service\n",
    "from selenium.webdriver.chrome.options import Options\n",
    "from selenium.webdriver.common.by import By\n",
    "from selenium.webdriver.common.keys import Keys\n",
    "\n",
    "from webdriver_manager.chrome import ChromeDriverManager\n"
   ]
  },
  {
   "cell_type": "markdown",
   "metadata": {},
   "source": [
    "Webdriver Initialization"
   ]
  },
  {
   "cell_type": "code",
   "execution_count": 2,
   "metadata": {},
   "outputs": [],
   "source": [
    "url='https://villageinfo.in'\n",
    "\n",
    "options = Options()\n",
    "options.add_argument(\"start-maximized\")\n",
    "driver = webdriver.Chrome(\n",
    "    service=Service(ChromeDriverManager().install()), options=options\n",
    ")\n",
    "driver.get(url)"
   ]
  },
  {
   "cell_type": "markdown",
   "metadata": {},
   "source": [
    "Scroll to the Bottom of the Page"
   ]
  },
  {
   "cell_type": "code",
   "execution_count": 34,
   "metadata": {},
   "outputs": [],
   "source": [
    "def scroll_bottom(scroll_pause_time=0):\n",
    "    last_height = driver.execute_script(\"return document.body.scrollHeight\")\n",
    "\n",
    "    while True:\n",
    "        # Scroll down to bottom\n",
    "        # driver.execute_script(\"window.scrollTo(0, document.body.scrollHeight);\")\n",
    "        driver.execute_script(\n",
    "            \"window.scrollTo({top: document.body.scrollHeight-7000,left: 0,behavior: 'smooth'});\"\n",
    "        )\n",
    "\n",
    "        # Wait to load page\n",
    "        sleep(scroll_pause_time)\n",
    "\n",
    "        # Calculate new scroll height and compare with last scroll height\n",
    "        new_height = driver.execute_script(\"return document.body.scrollHeight\")\n",
    "        if new_height == last_height:\n",
    "            break\n",
    "        last_height = new_height"
   ]
  },
  {
   "cell_type": "markdown",
   "metadata": {},
   "source": [
    "Collect Village Link List"
   ]
  },
  {
   "cell_type": "code",
   "execution_count": 35,
   "metadata": {},
   "outputs": [
    {
     "ename": "NoSuchWindowException",
     "evalue": "Message: no such window: target window already closed\nfrom unknown error: web view not found\n  (Session info: chrome=105.0.5195.127)\nStacktrace:\nBacktrace:\n\tOrdinal0 [0x0061DF13+2219795]\n\tOrdinal0 [0x005B2841+1779777]\n\tOrdinal0 [0x004C423D+803389]\n\tOrdinal0 [0x004AC70A+706314]\n\tOrdinal0 [0x00511502+1119490]\n\tOrdinal0 [0x0051E8FA+1173754]\n\tOrdinal0 [0x0050E616+1107478]\n\tOrdinal0 [0x004E7F89+950153]\n\tOrdinal0 [0x004E8F56+954198]\n\tGetHandleVerifier [0x00912CB2+3040210]\n\tGetHandleVerifier [0x00902BB4+2974420]\n\tGetHandleVerifier [0x006B6A0A+565546]\n\tGetHandleVerifier [0x006B5680+560544]\n\tOrdinal0 [0x005B9A5C+1808988]\n\tOrdinal0 [0x005BE3A8+1827752]\n\tOrdinal0 [0x005BE495+1827989]\n\tOrdinal0 [0x005C80A4+1867940]\n\tBaseThreadInitThunk [0x76656739+25]\n\tRtlGetFullPathName_UEx [0x77DD8FD2+1218]\n\tRtlGetFullPathName_UEx [0x77DD8F9D+1165]\n",
     "output_type": "error",
     "traceback": [
      "\u001b[1;31m---------------------------------------------------------------------------\u001b[0m",
      "\u001b[1;31mNoSuchWindowException\u001b[0m                     Traceback (most recent call last)",
      "Cell \u001b[1;32mIn [35], line 25\u001b[0m\n\u001b[0;32m     23\u001b[0m \u001b[38;5;28;01mfor\u001b[39;00m district_link \u001b[38;5;129;01min\u001b[39;00m district_links:\n\u001b[0;32m     24\u001b[0m     driver\u001b[38;5;241m.\u001b[39mget(district_link)\n\u001b[1;32m---> 25\u001b[0m     \u001b[43mscroll_bottom\u001b[49m\u001b[43m(\u001b[49m\u001b[43m)\u001b[49m\n\u001b[0;32m     26\u001b[0m     tehsil_elements \u001b[38;5;241m=\u001b[39m driver\u001b[38;5;241m.\u001b[39mfind_elements(\n\u001b[0;32m     27\u001b[0m         by\u001b[38;5;241m=\u001b[39mBy\u001b[38;5;241m.\u001b[39mCSS_SELECTOR, value\u001b[38;5;241m=\u001b[39m\u001b[38;5;124m\"\u001b[39m\u001b[38;5;124m.vict tbody tr td a\u001b[39m\u001b[38;5;124m\"\u001b[39m\n\u001b[0;32m     28\u001b[0m     )\n\u001b[0;32m     30\u001b[0m     tehsil_links \u001b[38;5;241m=\u001b[39m []\n",
      "Cell \u001b[1;32mIn [34], line 7\u001b[0m, in \u001b[0;36mscroll_bottom\u001b[1;34m(scroll_pause_time)\u001b[0m\n\u001b[0;32m      2\u001b[0m last_height \u001b[38;5;241m=\u001b[39m driver\u001b[38;5;241m.\u001b[39mexecute_script(\u001b[38;5;124m\"\u001b[39m\u001b[38;5;124mreturn document.body.scrollHeight\u001b[39m\u001b[38;5;124m\"\u001b[39m)\n\u001b[0;32m      4\u001b[0m \u001b[38;5;28;01mwhile\u001b[39;00m \u001b[38;5;28;01mTrue\u001b[39;00m:\n\u001b[0;32m      5\u001b[0m     \u001b[38;5;66;03m# Scroll down to bottom\u001b[39;00m\n\u001b[0;32m      6\u001b[0m     \u001b[38;5;66;03m# driver.execute_script(\"window.scrollTo(0, document.body.scrollHeight);\")\u001b[39;00m\n\u001b[1;32m----> 7\u001b[0m     \u001b[43mdriver\u001b[49m\u001b[38;5;241;43m.\u001b[39;49m\u001b[43mexecute_script\u001b[49m\u001b[43m(\u001b[49m\n\u001b[0;32m      8\u001b[0m \u001b[43m        \u001b[49m\u001b[38;5;124;43m\"\u001b[39;49m\u001b[38;5;124;43mwindow.scrollTo(\u001b[39;49m\u001b[38;5;124;43m{\u001b[39;49m\u001b[38;5;124;43mtop: document.body.scrollHeight-7000,left: 0,behavior: \u001b[39;49m\u001b[38;5;124;43m'\u001b[39;49m\u001b[38;5;124;43msmooth\u001b[39;49m\u001b[38;5;124;43m'\u001b[39;49m\u001b[38;5;124;43m});\u001b[39;49m\u001b[38;5;124;43m\"\u001b[39;49m\n\u001b[0;32m      9\u001b[0m \u001b[43m    \u001b[49m\u001b[43m)\u001b[49m\n\u001b[0;32m     11\u001b[0m     \u001b[38;5;66;03m# Wait to load page\u001b[39;00m\n\u001b[0;32m     12\u001b[0m     sleep(scroll_pause_time)\n",
      "File \u001b[1;32md:\\OneDrive\\Repositories\\Swiggy-Web-Scrapper\\venv_swiggy_web_scrapper\\lib\\site-packages\\selenium\\webdriver\\remote\\webdriver.py:491\u001b[0m, in \u001b[0;36mWebDriver.execute_script\u001b[1;34m(self, script, *args)\u001b[0m\n\u001b[0;32m    488\u001b[0m converted_args \u001b[39m=\u001b[39m \u001b[39mlist\u001b[39m(args)\n\u001b[0;32m    489\u001b[0m command \u001b[39m=\u001b[39m Command\u001b[39m.\u001b[39mW3C_EXECUTE_SCRIPT\n\u001b[1;32m--> 491\u001b[0m \u001b[39mreturn\u001b[39;00m \u001b[39mself\u001b[39;49m\u001b[39m.\u001b[39;49mexecute(command, {\n\u001b[0;32m    492\u001b[0m     \u001b[39m'\u001b[39;49m\u001b[39mscript\u001b[39;49m\u001b[39m'\u001b[39;49m: script,\n\u001b[0;32m    493\u001b[0m     \u001b[39m'\u001b[39;49m\u001b[39margs\u001b[39;49m\u001b[39m'\u001b[39;49m: converted_args})[\u001b[39m'\u001b[39m\u001b[39mvalue\u001b[39m\u001b[39m'\u001b[39m]\n",
      "File \u001b[1;32md:\\OneDrive\\Repositories\\Swiggy-Web-Scrapper\\venv_swiggy_web_scrapper\\lib\\site-packages\\selenium\\webdriver\\remote\\webdriver.py:428\u001b[0m, in \u001b[0;36mWebDriver.execute\u001b[1;34m(self, driver_command, params)\u001b[0m\n\u001b[0;32m    426\u001b[0m response \u001b[39m=\u001b[39m \u001b[39mself\u001b[39m\u001b[39m.\u001b[39mcommand_executor\u001b[39m.\u001b[39mexecute(driver_command, params)\n\u001b[0;32m    427\u001b[0m \u001b[39mif\u001b[39;00m response:\n\u001b[1;32m--> 428\u001b[0m     \u001b[39mself\u001b[39;49m\u001b[39m.\u001b[39;49merror_handler\u001b[39m.\u001b[39;49mcheck_response(response)\n\u001b[0;32m    429\u001b[0m     response[\u001b[39m'\u001b[39m\u001b[39mvalue\u001b[39m\u001b[39m'\u001b[39m] \u001b[39m=\u001b[39m \u001b[39mself\u001b[39m\u001b[39m.\u001b[39m_unwrap_value(\n\u001b[0;32m    430\u001b[0m         response\u001b[39m.\u001b[39mget(\u001b[39m'\u001b[39m\u001b[39mvalue\u001b[39m\u001b[39m'\u001b[39m, \u001b[39mNone\u001b[39;00m))\n\u001b[0;32m    431\u001b[0m     \u001b[39mreturn\u001b[39;00m response\n",
      "File \u001b[1;32md:\\OneDrive\\Repositories\\Swiggy-Web-Scrapper\\venv_swiggy_web_scrapper\\lib\\site-packages\\selenium\\webdriver\\remote\\errorhandler.py:243\u001b[0m, in \u001b[0;36mErrorHandler.check_response\u001b[1;34m(self, response)\u001b[0m\n\u001b[0;32m    241\u001b[0m         alert_text \u001b[39m=\u001b[39m value[\u001b[39m'\u001b[39m\u001b[39malert\u001b[39m\u001b[39m'\u001b[39m]\u001b[39m.\u001b[39mget(\u001b[39m'\u001b[39m\u001b[39mtext\u001b[39m\u001b[39m'\u001b[39m)\n\u001b[0;32m    242\u001b[0m     \u001b[39mraise\u001b[39;00m exception_class(message, screen, stacktrace, alert_text)  \u001b[39m# type: ignore[call-arg]  # mypy is not smart enough here\u001b[39;00m\n\u001b[1;32m--> 243\u001b[0m \u001b[39mraise\u001b[39;00m exception_class(message, screen, stacktrace)\n",
      "\u001b[1;31mNoSuchWindowException\u001b[0m: Message: no such window: target window already closed\nfrom unknown error: web view not found\n  (Session info: chrome=105.0.5195.127)\nStacktrace:\nBacktrace:\n\tOrdinal0 [0x0061DF13+2219795]\n\tOrdinal0 [0x005B2841+1779777]\n\tOrdinal0 [0x004C423D+803389]\n\tOrdinal0 [0x004AC70A+706314]\n\tOrdinal0 [0x00511502+1119490]\n\tOrdinal0 [0x0051E8FA+1173754]\n\tOrdinal0 [0x0050E616+1107478]\n\tOrdinal0 [0x004E7F89+950153]\n\tOrdinal0 [0x004E8F56+954198]\n\tGetHandleVerifier [0x00912CB2+3040210]\n\tGetHandleVerifier [0x00902BB4+2974420]\n\tGetHandleVerifier [0x006B6A0A+565546]\n\tGetHandleVerifier [0x006B5680+560544]\n\tOrdinal0 [0x005B9A5C+1808988]\n\tOrdinal0 [0x005BE3A8+1827752]\n\tOrdinal0 [0x005BE495+1827989]\n\tOrdinal0 [0x005C80A4+1867940]\n\tBaseThreadInitThunk [0x76656739+25]\n\tRtlGetFullPathName_UEx [0x77DD8FD2+1218]\n\tRtlGetFullPathName_UEx [0x77DD8F9D+1165]\n"
     ]
    }
   ],
   "source": [
    "village_links = []\n",
    "state_elements = driver.find_elements(by=By.CSS_SELECTOR, value=\".tab span a\")\n",
    "\n",
    "state_links = []\n",
    "for state_element in state_elements:\n",
    "    state_link = state_element.get_attribute(\"href\")\n",
    "    state_links.append(state_link)\n",
    "    # break\n",
    "\n",
    "for state_link in state_links:\n",
    "    driver.get(state_link)\n",
    "    scroll_bottom()\n",
    "    district_elements = driver.find_elements(\n",
    "        by=By.CSS_SELECTOR, value=\".vict tbody tr td a\"\n",
    "    )\n",
    "\n",
    "    district_links = []\n",
    "    for district_element in district_elements:\n",
    "        district_link = district_element.get_attribute(\"href\")\n",
    "        district_links.append(district_link)\n",
    "        # break\n",
    "\n",
    "    for district_link in district_links:\n",
    "        driver.get(district_link)\n",
    "        scroll_bottom()\n",
    "        tehsil_elements = driver.find_elements(\n",
    "            by=By.CSS_SELECTOR, value=\".vict tbody tr td a\"\n",
    "        )\n",
    "\n",
    "        tehsil_links = []\n",
    "        for tehsil_element in tehsil_elements:\n",
    "            tehsil_link = tehsil_element.get_attribute(\"href\")\n",
    "            tehsil_links.append(tehsil_link)\n",
    "            # break\n",
    "\n",
    "        for tehsil_link in tehsil_links:\n",
    "            driver.get(tehsil_link)\n",
    "            scroll_bottom()\n",
    "            village_elements = driver.find_elements(\n",
    "                by=By.CSS_SELECTOR, value=\".vict tbody tr td a\"\n",
    "            )\n",
    "\n",
    "            for village_element in village_elements:\n",
    "                village_link = village_element.get_attribute(\"href\")\n",
    "                village_links.append(village_link)\n",
    "    # break\n"
   ]
  },
  {
   "cell_type": "markdown",
   "metadata": {},
   "source": [
    "Collect Data"
   ]
  },
  {
   "cell_type": "code",
   "execution_count": null,
   "metadata": {},
   "outputs": [],
   "source": [
    "data = []\n",
    "for village_link in village_links:\n",
    "    driver.get(village_link)\n",
    "    scroll_bottom()\n",
    "    dict_data = {}\n",
    "\n",
    "    dict_data[\"state_name\"] = driver.find_element(\n",
    "        by=By.CSS_SELECTOR, value=\".vi tbody tr:nth-child(4) td:nth-child(2)\"\n",
    "    ).text\n",
    "    dict_data[\"district_name\"] = driver.find_element(\n",
    "        by=By.CSS_SELECTOR, value=\".vi tbody tr:nth-child(3) td:nth-child(2)\"\n",
    "    ).text\n",
    "    dict_data[\"tehsil_name\"] = driver.find_element(\n",
    "        by=By.CSS_SELECTOR, value=\".vi tbody tr:nth-child(2) td:nth-child(2)\"\n",
    "    ).text\n",
    "    dict_data[\"village_name\"] = driver.find_element(\n",
    "        by=By.CSS_SELECTOR, value=\".left-column h2\"\n",
    "    ).text\n",
    "    dict_data[\"village_link\"] = village_link\n",
    "    dict_data[\"pincode\"] = driver.find_element(\n",
    "        by=By.CSS_SELECTOR, value=\".vi tbody tr:nth-child(5) td:nth-child(2)\"\n",
    "    ).text\n",
    "    dict_data[\"area\"] = driver.find_element(\n",
    "        by=By.CSS_SELECTOR, value=\".vi tbody tr:nth-child(6) td:nth-child(2)\"\n",
    "    ).text\n",
    "    dict_data[\"population\"] = driver.find_element(\n",
    "        by=By.CSS_SELECTOR, value=\".vi tbody tr:nth-child(7) td:nth-child(2)\"\n",
    "    ).text\n",
    "    dict_data[\"households\"] = driver.find_element(\n",
    "        by=By.CSS_SELECTOR, value=\".vi tbody tr:nth-child(8) td:nth-child(2)\"\n",
    "    ).text\n",
    "    dict_data[\"nearest_town\"] = driver.find_element(\n",
    "        by=By.CSS_SELECTOR, value=\".vi tbody tr:nth-child(9) td:nth-child(2)\"\n",
    "    ).text\n",
    "\n",
    "    dict_data[\"total_population\"] = {}\n",
    "    dict_data[\"total_population\"][\"total\"] = driver.find_element(\n",
    "        by=By.CSS_SELECTOR, value=\".vict tbody tr:nth-child(1) td:nth-child(2)\"\n",
    "    ).text\n",
    "    dict_data[\"total_population\"][\"male\"] = driver.find_element(\n",
    "        by=By.CSS_SELECTOR, value=\".vict tbody tr:nth-child(1) td:nth-child(3)\"\n",
    "    ).text\n",
    "    dict_data[\"total_population\"][\"female\"] = driver.find_element(\n",
    "        by=By.CSS_SELECTOR, value=\".vict tbody tr:nth-child(1) td:nth-child(4)\"\n",
    "    ).text\n",
    "\n",
    "    dict_data[\"literate_population\"] = {}\n",
    "    dict_data[\"literate_population\"][\"total\"] = driver.find_element(\n",
    "        by=By.CSS_SELECTOR, value=\".vict tbody tr:nth-child(2) td:nth-child(2)\"\n",
    "    ).text\n",
    "    dict_data[\"literate_population\"][\"male\"] = driver.find_element(\n",
    "        by=By.CSS_SELECTOR, value=\".vict tbody tr:nth-child(2) td:nth-child(3)\"\n",
    "    ).text\n",
    "    dict_data[\"literate_population\"][\"female\"] = driver.find_element(\n",
    "        by=By.CSS_SELECTOR, value=\".vict tbody tr:nth-child(2) td:nth-child(4)\"\n",
    "    ).text\n",
    "\n",
    "    dict_data[\"illiterate_population\"] = {}\n",
    "    dict_data[\"illiterate_population\"][\"total\"] = driver.find_element(\n",
    "        by=By.CSS_SELECTOR, value=\".vict tbody tr:nth-child(3) td:nth-child(2)\"\n",
    "    ).text\n",
    "    dict_data[\"illiterate_population\"][\"male\"] = driver.find_element(\n",
    "        by=By.CSS_SELECTOR, value=\".vict tbody tr:nth-child(3) td:nth-child(3)\"\n",
    "    ).text\n",
    "    dict_data[\"illiterate_population\"][\"female\"] = driver.find_element(\n",
    "        by=By.CSS_SELECTOR, value=\".vict tbody tr:nth-child(3) td:nth-child(4)\"\n",
    "    ).text\n",
    "\n",
    "    dict_data[\"public_bus_service\"] = driver.find_element(\n",
    "        by=By.CSS_SELECTOR, value=\".table .row:nth-child(2) .column:nth-child(2)\"\n",
    "    ).text\n",
    "    dict_data[\"private_bus_service\"] = driver.find_element(\n",
    "        by=By.CSS_SELECTOR, value=\".table .row:nth-child(3) .column:nth-child(2)\"\n",
    "    ).text\n",
    "    dict_data[\"railway_station\"] = driver.find_element(\n",
    "        by=By.CSS_SELECTOR, value=\".table .row:nth-child(4) .column:nth-child(2)\"\n",
    "    ).text\n",
    "\n",
    "    about_elements_list = driver.find_elements(\n",
    "        by=By.CSS_SELECTOR, value=\".left-column .text-justify\"\n",
    "    )\n",
    "    about = \"\"\n",
    "    for about_element in about_elements_list:\n",
    "        about += \" \" + about_element.text\n",
    "        # about+=\"\\n\\n\"\n",
    "    dict_data[\"about\"] = about\n",
    "\n",
    "    nearby_villages_elements_list = driver.find_elements(\n",
    "        by=By.CSS_SELECTOR, value=\".vi-nbvli a\"\n",
    "    )\n",
    "    nearby_villages = []\n",
    "    for nearby_villages_element in nearby_villages_elements_list:\n",
    "        nearby_villages.append(nearby_villages_element.text)\n",
    "    dict_data[\"nearby_villages\"] = nearby_villages\n",
    "\n",
    "    print(dict_data)\n",
    "    data.append(dict_data)\n",
    "    # break\n"
   ]
  },
  {
   "cell_type": "markdown",
   "metadata": {},
   "source": [
    "Dump Data to JSON"
   ]
  },
  {
   "cell_type": "code",
   "execution_count": null,
   "metadata": {},
   "outputs": [],
   "source": [
    "with open(\"data.json\", \"w\") as file1:\n",
    "    json.dump(data, file1)"
   ]
  },
  {
   "cell_type": "markdown",
   "metadata": {},
   "source": [
    "Quit Webdriver"
   ]
  },
  {
   "cell_type": "code",
   "execution_count": 3,
   "metadata": {},
   "outputs": [],
   "source": [
    "driver.close()"
   ]
  }
 ],
 "metadata": {
  "kernelspec": {
   "display_name": "Python 3.10.5 ('.venv': poetry)",
   "language": "python",
   "name": "python3"
  },
  "language_info": {
   "codemirror_mode": {
    "name": "ipython",
    "version": 3
   },
   "file_extension": ".py",
   "mimetype": "text/x-python",
   "name": "python",
   "nbconvert_exporter": "python",
   "pygments_lexer": "ipython3",
   "version": "3.10.5"
  },
  "orig_nbformat": 4,
  "vscode": {
   "interpreter": {
    "hash": "45dc2895d9fa81570e558a35d36c1dfdc11f020486dd1b8517728e12d4de3ce1"
   }
  }
 },
 "nbformat": 4,
 "nbformat_minor": 2
}
