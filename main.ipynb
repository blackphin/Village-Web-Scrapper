{
 "cells": [
  {
   "cell_type": "markdown",
   "metadata": {},
   "source": [
    "Imports"
   ]
  },
  {
   "cell_type": "code",
   "execution_count": 1,
   "metadata": {},
   "outputs": [],
   "source": [
    "import json\n",
    "\n",
    "from time import sleep\n",
    "\n",
    "from selenium import webdriver\n",
    "from selenium.webdriver.chrome.service import Service\n",
    "from selenium.webdriver.chrome.options import Options\n",
    "from selenium.webdriver.common.by import By\n",
    "from selenium.webdriver.common.keys import Keys\n",
    "\n",
    "from webdriver_manager.chrome import ChromeDriverManager\n"
   ]
  },
  {
   "cell_type": "markdown",
   "metadata": {},
   "source": [
    "Webdriver Initialization"
   ]
  },
  {
   "cell_type": "code",
   "execution_count": 6,
   "metadata": {},
   "outputs": [],
   "source": [
    "url='https://villageinfo.in'\n",
    "\n",
    "options = Options()\n",
    "options.add_argument(\"start-maximized\")\n",
    "driver = webdriver.Chrome(\n",
    "    service=Service(ChromeDriverManager().install()), options=options\n",
    ")\n",
    "driver.get(url)"
   ]
  },
  {
   "cell_type": "markdown",
   "metadata": {},
   "source": [
    "Scroll to the Bottom of the Page"
   ]
  },
  {
   "cell_type": "code",
   "execution_count": 12,
   "metadata": {},
   "outputs": [],
   "source": [
    "def scroll_bottom(scroll_pause_time=1):\n",
    "    last_height = driver.execute_script(\"return document.body.scrollHeight\")\n",
    "\n",
    "    while True:\n",
    "        # Scroll down to bottom\n",
    "        # driver.execute_script(\"window.scrollTo(0, document.body.scrollHeight);\")\n",
    "        driver.execute_script(\n",
    "            \"window.scrollTo({top: document.body.scrollHeight-7000,left: 0,behavior: 'smooth'});\"\n",
    "        )\n",
    "\n",
    "        # Wait to load page\n",
    "        sleep(scroll_pause_time)\n",
    "\n",
    "        # Calculate new scroll height and compare with last scroll height\n",
    "        new_height = driver.execute_script(\"return document.body.scrollHeight\")\n",
    "        if new_height == last_height:\n",
    "            break\n",
    "        last_height = new_height"
   ]
  },
  {
   "cell_type": "markdown",
   "metadata": {},
   "source": [
    "Collect Village Link List"
   ]
  },
  {
   "cell_type": "code",
   "execution_count": null,
   "metadata": {},
   "outputs": [],
   "source": [
    "village_links = []\n",
    "state_elements = driver.find_elements(by=By.CSS_SELECTOR, value=\".tab span a\")\n",
    "\n",
    "state_links = []\n",
    "for state_element in state_elements:\n",
    "    state_link = state_element.get_attribute(\"href\")\n",
    "    state_links.append(state_link)\n",
    "    # break\n",
    "\n",
    "for state_link in state_links:\n",
    "    driver.get(state_link)\n",
    "    scroll_bottom()\n",
    "    district_elements = driver.find_elements(\n",
    "        by=By.CSS_SELECTOR, value=\".vict tbody tr td a\"\n",
    "    )\n",
    "\n",
    "    district_links = []\n",
    "    for district_element in district_elements:\n",
    "        district_link = district_element.get_attribute(\"href\")\n",
    "        district_links.append(district_link)\n",
    "        # break\n",
    "\n",
    "    for district_link in district_links:\n",
    "        driver.get(district_link)\n",
    "        scroll_bottom()\n",
    "        tehsil_elements = driver.find_elements(\n",
    "            by=By.CSS_SELECTOR, value=\".vict tbody tr td a\"\n",
    "        )\n",
    "\n",
    "        tehsil_links = []\n",
    "        for tehsil_element in tehsil_elements:\n",
    "            tehsil_link = tehsil_element.get_attribute(\"href\")\n",
    "            tehsil_links.append(tehsil_link)\n",
    "            # break\n",
    "\n",
    "        for tehsil_link in tehsil_links:\n",
    "            driver.get(tehsil_link)\n",
    "            scroll_bottom()\n",
    "            village_elements = driver.find_elements(\n",
    "                by=By.CSS_SELECTOR, value=\".vict tbody tr td a\"\n",
    "            )\n",
    "\n",
    "            for village_element in village_elements:\n",
    "                village_link = village_element.get_attribute(\"href\")\n",
    "                village_links.append(village_link)\n",
    "    # break\n"
   ]
  },
  {
   "cell_type": "markdown",
   "metadata": {},
   "source": [
    "Collect Data"
   ]
  },
  {
   "cell_type": "code",
   "execution_count": null,
   "metadata": {},
   "outputs": [],
   "source": [
    "data = []\n",
    "for village_link in village_links:\n",
    "    driver.get(village_link)\n",
    "    scroll_bottom()\n",
    "    dict_data = {}\n",
    "\n",
    "    \n",
    "    dict_data[\"state_name\"] = driver.find_element(\n",
    "        by=By.CSS_SELECTOR, value=\".vi tbody tr:nth-child(4) td:nth-child(2)\"\n",
    "    ).text\n",
    "    dict_data[\"district_name\"] = driver.find_element(\n",
    "        by=By.CSS_SELECTOR, value=\".vi tbody tr:nth-child(3) td:nth-child(2)\"\n",
    "    ).text\n",
    "    dict_data[\"tehsil_name\"] = driver.find_element(\n",
    "        by=By.CSS_SELECTOR, value=\".vi tbody tr:nth-child(2) td:nth-child(2)\"\n",
    "    ).text\n",
    "    dict_data[\"village_name\"] = driver.find_element(\n",
    "        by=By.CSS_SELECTOR, value=\".left-column h2\"\n",
    "    ).text\n",
    "    dict_data[\"village_link\"] = village_link\n",
    "    dict_data[\"pincode\"] = driver.find_element(\n",
    "        by=By.CSS_SELECTOR, value=\".vi tbody tr:nth-child(5) td:nth-child(2)\"\n",
    "    ).text\n",
    "    dict_data[\"area\"] = driver.find_element(\n",
    "        by=By.CSS_SELECTOR, value=\".vi tbody tr:nth-child(6) td:nth-child(2)\"\n",
    "    ).text\n",
    "    dict_data[\"population\"] = driver.find_element(\n",
    "        by=By.CSS_SELECTOR, value=\".vi tbody tr:nth-child(7) td:nth-child(2)\"\n",
    "    ).text\n",
    "    dict_data[\"households\"] = driver.find_element(\n",
    "        by=By.CSS_SELECTOR, value=\".vi tbody tr:nth-child(8) td:nth-child(2)\"\n",
    "    ).text\n",
    "    dict_data[\"nearest_town\"] = driver.find_element(\n",
    "        by=By.CSS_SELECTOR, value=\".vi tbody tr:nth-child(9) td:nth-child(2)\"\n",
    "    ).text\n",
    "\n",
    "    dict_data[\"total_population\"] = {}\n",
    "    dict_data[\"total_population\"][\"total\"] = driver.find_element(\n",
    "        by=By.CSS_SELECTOR, value=\".vict tbody tr:nth-child(1) td:nth-child(2)\"\n",
    "    ).text\n",
    "    dict_data[\"total_population\"][\"male\"] = driver.find_element(\n",
    "        by=By.CSS_SELECTOR, value=\".vict tbody tr:nth-child(1) td:nth-child(3)\"\n",
    "    ).text\n",
    "    dict_data[\"total_population\"][\"female\"] = driver.find_element(\n",
    "        by=By.CSS_SELECTOR, value=\".vict tbody tr:nth-child(1) td:nth-child(4)\"\n",
    "    ).text\n",
    "\n",
    "    dict_data[\"literate_population\"] = {}\n",
    "    dict_data[\"literate_population\"][\"total\"] = driver.find_element(\n",
    "        by=By.CSS_SELECTOR, value=\".vict tbody tr:nth-child(2) td:nth-child(2)\"\n",
    "    ).text\n",
    "    dict_data[\"literate_population\"][\"male\"] = driver.find_element(\n",
    "        by=By.CSS_SELECTOR, value=\".vict tbody tr:nth-child(2) td:nth-child(3)\"\n",
    "    ).text\n",
    "    dict_data[\"literate_population\"][\"female\"] = driver.find_element(\n",
    "        by=By.CSS_SELECTOR, value=\".vict tbody tr:nth-child(2) td:nth-child(4)\"\n",
    "    ).text\n",
    "\n",
    "    dict_data[\"illiterate_population\"] = {}\n",
    "    dict_data[\"illiterate_population\"][\"total\"] = driver.find_element(\n",
    "        by=By.CSS_SELECTOR, value=\".vict tbody tr:nth-child(3) td:nth-child(2)\"\n",
    "    ).text\n",
    "    dict_data[\"illiterate_population\"][\"male\"] = driver.find_element(\n",
    "        by=By.CSS_SELECTOR, value=\".vict tbody tr:nth-child(3) td:nth-child(3)\"\n",
    "    ).text\n",
    "    dict_data[\"illiterate_population\"][\"female\"] = driver.find_element(\n",
    "        by=By.CSS_SELECTOR, value=\".vict tbody tr:nth-child(3) td:nth-child(4)\"\n",
    "    ).text\n",
    "    try:\n",
    "        dict_data[\"public_bus_service\"] = driver.find_element(\n",
    "            by=By.CSS_SELECTOR, value=\".table .row:nth-child(2) .column:nth-child(2)\"\n",
    "        ).text\n",
    "        dict_data[\"private_bus_service\"] = driver.find_element(\n",
    "            by=By.CSS_SELECTOR, value=\".table .row:nth-child(3) .column:nth-child(2)\"\n",
    "        ).text\n",
    "        dict_data[\"railway_station\"] = driver.find_element(\n",
    "            by=By.CSS_SELECTOR, value=\".table .row:nth-child(4) .column:nth-child(2)\"\n",
    "        ).text\n",
    "    except:\n",
    "        ...\n",
    "    finally:\n",
    "        about_elements_list = driver.find_elements(\n",
    "            by=By.CSS_SELECTOR, value=\".left-column .text-justify\"\n",
    "        )\n",
    "        about = \"\"\n",
    "        for about_element in about_elements_list:\n",
    "            about += \" \" + about_element.text\n",
    "            # about+=\"\\n\\n\"\n",
    "        dict_data[\"about\"] = about\n",
    "\n",
    "        nearby_villages_elements_list = driver.find_elements(\n",
    "            by=By.CSS_SELECTOR, value=\".vi-nbvli a\"\n",
    "        )\n",
    "        nearby_villages = []\n",
    "        for nearby_villages_element in nearby_villages_elements_list:\n",
    "            nearby_villages.append(nearby_villages_element.text)\n",
    "        dict_data[\"nearby_villages\"] = nearby_villages\n",
    "\n",
    "        print(dict_data)\n",
    "        data.append(dict_data)\n",
    "    # break\n"
   ]
  },
  {
   "cell_type": "markdown",
   "metadata": {},
   "source": [
    "Dump Data to JSON"
   ]
  },
  {
   "cell_type": "code",
   "execution_count": 15,
   "metadata": {},
   "outputs": [],
   "source": [
    "with open(\"data.json\", \"w\") as file1:\n",
    "    json.dump(data, file1)"
   ]
  },
  {
   "cell_type": "markdown",
   "metadata": {},
   "source": [
    "Quit Webdriver"
   ]
  },
  {
   "cell_type": "code",
   "execution_count": 16,
   "metadata": {},
   "outputs": [],
   "source": [
    "driver.close()"
   ]
  }
 ],
 "metadata": {
  "kernelspec": {
   "display_name": "Python 3.10.5 ('.venv': poetry)",
   "language": "python",
   "name": "python3"
  },
  "language_info": {
   "codemirror_mode": {
    "name": "ipython",
    "version": 3
   },
   "file_extension": ".py",
   "mimetype": "text/x-python",
   "name": "python",
   "nbconvert_exporter": "python",
   "pygments_lexer": "ipython3",
   "version": "3.10.5"
  },
  "orig_nbformat": 4,
  "vscode": {
   "interpreter": {
    "hash": "45dc2895d9fa81570e558a35d36c1dfdc11f020486dd1b8517728e12d4de3ce1"
   }
  }
 },
 "nbformat": 4,
 "nbformat_minor": 2
}
